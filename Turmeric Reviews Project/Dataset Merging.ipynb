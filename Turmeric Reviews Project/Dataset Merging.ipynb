{
 "cells": [
  {
   "cell_type": "code",
   "execution_count": 1,
   "id": "68642d90-68cb-4ace-9f48-2f2210185c17",
   "metadata": {},
   "outputs": [],
   "source": [
    "import numpy as pd\n",
    "import pandas as pd"
   ]
  },
  {
   "cell_type": "code",
   "execution_count": 7,
   "id": "f54ad569-115b-4940-a0fa-685e9f5e6d5c",
   "metadata": {},
   "outputs": [],
   "source": [
    "google = pd.read_csv('goolge.csv', encoding='ISO-8859-1')\n",
    "mmt = pd.read_csv('makemytrip.csv', encoding='ISO-8859-1')\n",
    "combined = pd.read_csv('turmeric_dataset.csv', encoding='ISO-8859-1')\n"
   ]
  },
  {
   "cell_type": "code",
   "execution_count": 11,
   "id": "31845763-3a70-48b9-8f37-bd8912a020ff",
   "metadata": {},
   "outputs": [
    {
     "data": {
      "text/html": [
       "<div>\n",
       "<style scoped>\n",
       "    .dataframe tbody tr th:only-of-type {\n",
       "        vertical-align: middle;\n",
       "    }\n",
       "\n",
       "    .dataframe tbody tr th {\n",
       "        vertical-align: top;\n",
       "    }\n",
       "\n",
       "    .dataframe thead th {\n",
       "        text-align: right;\n",
       "    }\n",
       "</style>\n",
       "<table border=\"1\" class=\"dataframe\">\n",
       "  <thead>\n",
       "    <tr style=\"text-align: right;\">\n",
       "      <th></th>\n",
       "      <th>reviews</th>\n",
       "      <th>overall_rating</th>\n",
       "      <th>review_date</th>\n",
       "      <th>trip_type</th>\n",
       "      <th>room_rating</th>\n",
       "      <th>service_rating</th>\n",
       "      <th>location_rating</th>\n",
       "      <th>platform</th>\n",
       "    </tr>\n",
       "  </thead>\n",
       "  <tbody>\n",
       "    <tr>\n",
       "      <th>0</th>\n",
       "      <td>We booked this 4-star hotel expecting a comfor...</td>\n",
       "      <td>1</td>\n",
       "      <td>Jun-25</td>\n",
       "      <td>family</td>\n",
       "      <td>3</td>\n",
       "      <td>1</td>\n",
       "      <td>3</td>\n",
       "      <td>google</td>\n",
       "    </tr>\n",
       "    <tr>\n",
       "      <th>1</th>\n",
       "      <td>I had a wonderful stay for two days. The check...</td>\n",
       "      <td>5</td>\n",
       "      <td>Apr-25</td>\n",
       "      <td>NaN</td>\n",
       "      <td>5</td>\n",
       "      <td>5</td>\n",
       "      <td>4</td>\n",
       "      <td>google</td>\n",
       "    </tr>\n",
       "  </tbody>\n",
       "</table>\n",
       "</div>"
      ],
      "text/plain": [
       "                                            reviews   overall_rating  \\\n",
       "0  We booked this 4-star hotel expecting a comfor...               1   \n",
       "1  I had a wonderful stay for two days. The check...               5   \n",
       "\n",
       "  review_date trip_type  room_rating  service_rating  location_rating platform  \n",
       "0      Jun-25    family            3               1                3   google  \n",
       "1      Apr-25       NaN            5               5                4   google  "
      ]
     },
     "execution_count": 11,
     "metadata": {},
     "output_type": "execute_result"
    }
   ],
   "source": [
    "google.head(2)"
   ]
  },
  {
   "cell_type": "code",
   "execution_count": 15,
   "id": "c998f4ea-b78b-4dfb-8ff6-1b97434cbb4d",
   "metadata": {},
   "outputs": [
    {
     "name": "stdout",
     "output_type": "stream",
     "text": [
      "google: Index(['reviews ', 'overall_rating', 'review_date', 'trip_type', 'room_rating',\n",
      "       'service_rating', 'location_rating', 'platform'],\n",
      "      dtype='object')\n",
      "MMT Columns: Index(['reviews ', 'overall_rating', 'review_date', 'trip_type', 'room_rating',\n",
      "       'service_rating', 'location_rating', 'platform'],\n",
      "      dtype='object')\n",
      "Turmeric Columns: Index(['reviews ', 'overall_rating', 'review_date', 'trip_type', 'room_rating',\n",
      "       'service_rating', 'location_rating', 'platform'],\n",
      "      dtype='object')\n"
     ]
    }
   ],
   "source": [
    "print(\"google:\", google.columns)\n",
    "print(\"MMT Columns:\", mmt.columns)\n",
    "print(\"Turmeric Columns:\", combined.columns)\n"
   ]
  },
  {
   "cell_type": "code",
   "execution_count": null,
   "id": "7b136558-5f9e-4df0-915f-31196c631a97",
   "metadata": {},
   "outputs": [],
   "source": [
    "#Alignin column names\n",
    "\n",
    "common_cols = ['review', 'review_date', 'ratings', 'trip_type', 'room_rating',\n",
    "               'service_rating', 'location_rating', 'platform']"
   ]
  },
  {
   "cell_type": "code",
   "execution_count": null,
   "id": "889a65c5-875a-4973-838f-b0bf17913251",
   "metadata": {},
   "outputs": [],
   "source": [
    "# Sample \n",
    "\n",
    "# Create a function to align columns\n",
    "def align_columns(df, platform_name):\n",
    "    df = df.copy()\n",
    "    df['platform'] = platform_name  # tag the source\n",
    "    for col in common_cols:\n",
    "        if col not in df.columns:\n",
    "            df[col] = None  # fill missing columns with None\n",
    "    return df[common_cols]\n",
    "\n",
    "google_aligned = align_columns(google, 'Google')\n",
    "mmt_aligned = align_columns(mmt, 'MakeMyTrip')\n",
    "turmeric_aligned = align_columns(turmeric, 'Turmeric')\n"
   ]
  },
  {
   "cell_type": "code",
   "execution_count": 25,
   "id": "f79ab446-b948-45de-aa8b-76a89f76b8cb",
   "metadata": {},
   "outputs": [],
   "source": [
    "df = pd.concat([google, mmt, combined], ignore_index=True)\n"
   ]
  },
  {
   "cell_type": "code",
   "execution_count": 27,
   "id": "e291d5c9-e0c9-4bb9-9765-28d0c9429970",
   "metadata": {},
   "outputs": [],
   "source": [
    "df.to_csv('turmeric_hotel.csv', index=False, encoding='utf-8')\n"
   ]
  },
  {
   "cell_type": "code",
   "execution_count": 31,
   "id": "8ee695ef-c208-497a-91c4-a6bae274b8a5",
   "metadata": {},
   "outputs": [
    {
     "data": {
      "text/html": [
       "<div>\n",
       "<style scoped>\n",
       "    .dataframe tbody tr th:only-of-type {\n",
       "        vertical-align: middle;\n",
       "    }\n",
       "\n",
       "    .dataframe tbody tr th {\n",
       "        vertical-align: top;\n",
       "    }\n",
       "\n",
       "    .dataframe thead th {\n",
       "        text-align: right;\n",
       "    }\n",
       "</style>\n",
       "<table border=\"1\" class=\"dataframe\">\n",
       "  <thead>\n",
       "    <tr style=\"text-align: right;\">\n",
       "      <th></th>\n",
       "      <th>reviews</th>\n",
       "      <th>overall_rating</th>\n",
       "      <th>review_date</th>\n",
       "      <th>trip_type</th>\n",
       "      <th>room_rating</th>\n",
       "      <th>service_rating</th>\n",
       "      <th>location_rating</th>\n",
       "      <th>platform</th>\n",
       "    </tr>\n",
       "  </thead>\n",
       "  <tbody>\n",
       "    <tr>\n",
       "      <th>0</th>\n",
       "      <td>We booked this 4-star hotel expecting a comfor...</td>\n",
       "      <td>1</td>\n",
       "      <td>Jun-25</td>\n",
       "      <td>family</td>\n",
       "      <td>3.0</td>\n",
       "      <td>1.0</td>\n",
       "      <td>3.0</td>\n",
       "      <td>google</td>\n",
       "    </tr>\n",
       "    <tr>\n",
       "      <th>1</th>\n",
       "      <td>I had a wonderful stay for two days. The check...</td>\n",
       "      <td>5</td>\n",
       "      <td>Apr-25</td>\n",
       "      <td>NaN</td>\n",
       "      <td>5.0</td>\n",
       "      <td>5.0</td>\n",
       "      <td>4.0</td>\n",
       "      <td>google</td>\n",
       "    </tr>\n",
       "    <tr>\n",
       "      <th>2</th>\n",
       "      <td>Had a great one-day stay here! Everything was ...</td>\n",
       "      <td>5</td>\n",
       "      <td>Jun-25</td>\n",
       "      <td>friends</td>\n",
       "      <td>5.0</td>\n",
       "      <td>5.0</td>\n",
       "      <td>5.0</td>\n",
       "      <td>google</td>\n",
       "    </tr>\n",
       "    <tr>\n",
       "      <th>3</th>\n",
       "      <td>I had a wonderful stay at Hotel Turmeric in Er...</td>\n",
       "      <td>5</td>\n",
       "      <td>Apr-25</td>\n",
       "      <td>friends</td>\n",
       "      <td>5.0</td>\n",
       "      <td>5.0</td>\n",
       "      <td>5.0</td>\n",
       "      <td>google</td>\n",
       "    </tr>\n",
       "    <tr>\n",
       "      <th>4</th>\n",
       "      <td>We stayed here for a night. We had a comfortab...</td>\n",
       "      <td>5</td>\n",
       "      <td>Jun-25</td>\n",
       "      <td>family</td>\n",
       "      <td>5.0</td>\n",
       "      <td>5.0</td>\n",
       "      <td>5.0</td>\n",
       "      <td>google</td>\n",
       "    </tr>\n",
       "  </tbody>\n",
       "</table>\n",
       "</div>"
      ],
      "text/plain": [
       "                                            reviews   overall_rating  \\\n",
       "0  We booked this 4-star hotel expecting a comfor...               1   \n",
       "1  I had a wonderful stay for two days. The check...               5   \n",
       "2  Had a great one-day stay here! Everything was ...               5   \n",
       "3  I had a wonderful stay at Hotel Turmeric in Er...               5   \n",
       "4  We stayed here for a night. We had a comfortab...               5   \n",
       "\n",
       "  review_date trip_type  room_rating  service_rating  location_rating platform  \n",
       "0      Jun-25    family          3.0             1.0              3.0   google  \n",
       "1      Apr-25       NaN          5.0             5.0              4.0   google  \n",
       "2      Jun-25   friends          5.0             5.0              5.0   google  \n",
       "3      Apr-25   friends          5.0             5.0              5.0   google  \n",
       "4      Jun-25    family          5.0             5.0              5.0   google  "
      ]
     },
     "execution_count": 31,
     "metadata": {},
     "output_type": "execute_result"
    }
   ],
   "source": [
    "df.head()"
   ]
  },
  {
   "cell_type": "code",
   "execution_count": 41,
   "id": "0ec3b55e-8aa7-4b12-94d0-a4fe4034b210",
   "metadata": {},
   "outputs": [
    {
     "data": {
      "text/plain": [
       "(258, 8)"
      ]
     },
     "execution_count": 41,
     "metadata": {},
     "output_type": "execute_result"
    }
   ],
   "source": [
    "df.shape"
   ]
  },
  {
   "cell_type": "code",
   "execution_count": 37,
   "id": "cfa20238-f8f5-4fb6-a07b-b09e100b5714",
   "metadata": {},
   "outputs": [
    {
     "name": "stdout",
     "output_type": "stream",
     "text": [
      "<class 'pandas.core.frame.DataFrame'>\n",
      "RangeIndex: 258 entries, 0 to 257\n",
      "Data columns (total 8 columns):\n",
      " #   Column           Non-Null Count  Dtype  \n",
      "---  ------           --------------  -----  \n",
      " 0   reviews          258 non-null    object \n",
      " 1   overall_rating   258 non-null    int64  \n",
      " 2   review_date      258 non-null    object \n",
      " 3   trip_type        248 non-null    object \n",
      " 4   room_rating      257 non-null    float64\n",
      " 5   service_rating   257 non-null    float64\n",
      " 6   location_rating  257 non-null    float64\n",
      " 7   platform         258 non-null    object \n",
      "dtypes: float64(3), int64(1), object(4)\n",
      "memory usage: 16.3+ KB\n"
     ]
    }
   ],
   "source": [
    "df.info()"
   ]
  },
  {
   "cell_type": "code",
   "execution_count": 51,
   "id": "e999c6c2-5416-4890-b2c4-9299680ffe12",
   "metadata": {},
   "outputs": [
    {
     "data": {
      "text/plain": [
       "1"
      ]
     },
     "execution_count": 51,
     "metadata": {},
     "output_type": "execute_result"
    }
   ],
   "source": [
    "df.duplicated().sum()"
   ]
  },
  {
   "cell_type": "code",
   "execution_count": null,
   "id": "e78035d4-f4c7-4575-a893-53784ca87d89",
   "metadata": {},
   "outputs": [],
   "source": []
  }
 ],
 "metadata": {
  "kernelspec": {
   "display_name": "Python 3 (ipykernel)",
   "language": "python",
   "name": "python3"
  },
  "language_info": {
   "codemirror_mode": {
    "name": "ipython",
    "version": 3
   },
   "file_extension": ".py",
   "mimetype": "text/x-python",
   "name": "python",
   "nbconvert_exporter": "python",
   "pygments_lexer": "ipython3",
   "version": "3.11.7"
  }
 },
 "nbformat": 4,
 "nbformat_minor": 5
}
